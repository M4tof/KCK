{
 "cells": [
  {
   "cell_type": "markdown",
   "id": "1cf16e3f-f850-46d7-9ba6-fd74c91a7b9c",
   "metadata": {},
   "source": [
    "### 2. Kolory"
   ]
  },
  {
   "cell_type": "markdown",
   "id": "ea73c7be-2d0d-46ae-a063-49e62694bfa2",
   "metadata": {},
   "source": [
    " 1. 50%\n",
    "    - KOD"
   ]
  },
  {
   "cell_type": "code",
   "execution_count": 4,
   "id": "f6098bfa-e64d-4365-8dd8-37b292e6cc19",
   "metadata": {},
   "outputs": [
    {
     "name": "stderr",
     "output_type": "stream",
     "text": [
      "Clipping input data to the valid range for imshow with RGB data ([0..1] for floats or [0..255] for integers). Got range [-4.440892098500626e-16..1.0].\n"
     ]
    }
   ],
   "source": [
    "from __future__ import division             # Division in Python 2.7\n",
    "import matplotlib\n",
    "matplotlib.use('Agg')                       # So that we can render files without GUI\n",
    "import matplotlib.pyplot as plt\n",
    "from matplotlib import rc\n",
    "import numpy as np\n",
    "import colorsys as cs\n",
    "\n",
    "from matplotlib import colors\n",
    "\n",
    "def plot_color_gradients(gradients, names):\n",
    "    # For pretty latex fonts (commented out, because it does not work on some machines)\n",
    "    #rc('text', usetex=True) \n",
    "    #rc('font', family='serif', serif=['Times'], size=10)\n",
    "    rc('legend', fontsize=10)\n",
    "\n",
    "    column_width_pt = 400         # Show in latex using \\the\\linewidth\n",
    "    pt_per_inch = 72\n",
    "    size = column_width_pt / pt_per_inch\n",
    "\n",
    "    fig, axes = plt.subplots(nrows=len(gradients), sharex=True, figsize=(size, 0.75 * size))\n",
    "    fig.subplots_adjust(top=1.00, bottom=0.05, left=0.25, right=0.95)\n",
    "\n",
    "\n",
    "    for ax, gradient, name in zip(axes, gradients, names):\n",
    "        # Create image with two lines and draw gradient on it\n",
    "        img = np.zeros((2, 1024, 3))\n",
    "        for i, v in enumerate(np.linspace(0, 1, 1024)):\n",
    "            img[:, i] = gradient(v)\n",
    "\n",
    "        im = ax.imshow(img, aspect='auto')\n",
    "        im.set_extent([0, 1, 0, 1])\n",
    "        ax.yaxis.set_visible(False)\n",
    "\n",
    "        pos = list(ax.get_position().bounds)\n",
    "        x_text = pos[0] - 0.25\n",
    "        y_text = pos[1] + pos[3]/2.\n",
    "        fig.text(x_text, y_text, name, va='center', ha='left', fontsize=10)\n",
    "\n",
    "    fig.savefig('my-gradients.pdf')\n",
    "\n",
    "def hsv2rgb(h, s, v):\n",
    "    return cs.hsv_to_rgb(h, s, v)\n",
    "\n",
    "def gradient_rgb_bw(v):\n",
    "    return (v, v, v)\n",
    "\n",
    "def gradient_rgb_gbr(v):\n",
    "    if v <= 0.5:\n",
    "        return (0, 1 - 2*v, 2*v)\n",
    "    else:\n",
    "        v -= 0.5\n",
    "        return (2*v,0, 1 - 2*v)\n",
    "\n",
    "\n",
    "def gradient_rgb_gbr_full(v):\n",
    "    if v <= 0.25:\n",
    "        return (0, 1, 4*v)\n",
    "    \n",
    "    elif v <= 0.5:\n",
    "        v -= 0.25\n",
    "        return (0, 1 - 4*v, 1)\n",
    "    \n",
    "    elif v <= 0.75:\n",
    "        v -= 0.5\n",
    "        return (4*v, 0, 1)\n",
    "    \n",
    "    else:\n",
    "        v -= 0.75\n",
    "        return (1, 0, 1 - 4*v)\n",
    "    \n",
    "def gradient_rgb_wb_custom(v):\n",
    "    if v <= 1/7:\n",
    "        return (1, 1-7*v ,1)\n",
    "    \n",
    "    elif v<= 2/7:\n",
    "        v -= 1/7\n",
    "        return (1-7*v, 0, 1)\n",
    "    \n",
    "    elif v<= 3/7:\n",
    "        v -= 2/7\n",
    "        return (0, 7*v, 1)\n",
    "    \n",
    "    elif v<= 4/7:\n",
    "        v -= 3/7\n",
    "        return (0, 1, 1- 7*v)\n",
    "    \n",
    "    elif v<= 5/7:\n",
    "        v -= 4/7\n",
    "        return (7*v, 1, 0)\n",
    "    \n",
    "    elif v<= 6/7:\n",
    "        v -= 5/7\n",
    "        return (1, 1 - 7*v, 0)\n",
    "    \n",
    "    else:\n",
    "        v -= 6/7\n",
    "        return (1 - 7*v, 0, 0)\n",
    "\n",
    "def gradient_hsv_bw(v):\n",
    "    return hsv2rgb(0, 0, v)\n",
    "\n",
    "\n",
    "def gradient_hsv_gbr(v):\n",
    "    return hsv2rgb(0.3 + 0.7*v, 1, 1)\n",
    "\n",
    "def gradient_hsv_unknown(v):\n",
    "    return hsv2rgb(0.3 - 0.3*v, 0.45, 1)\n",
    "\n",
    "\n",
    "def gradient_hsv_custom(v):\n",
    "    return hsv2rgb(v, 1-v, 1)\n",
    "\n",
    "\n",
    "if __name__ == '__main__':\n",
    "    def toname(g):\n",
    "        return g.__name__.replace('gradient_', '').replace('_', '-').upper()\n",
    "\n",
    "    gradients = (gradient_rgb_bw, gradient_rgb_gbr, gradient_rgb_gbr_full, gradient_rgb_wb_custom,\n",
    "                 gradient_hsv_bw, gradient_hsv_gbr, gradient_hsv_unknown, gradient_hsv_custom)\n",
    "\n",
    "    plot_color_gradients(gradients, [toname(g) for g in gradients])\n"
   ]
  },
  {
   "cell_type": "markdown",
   "id": "97f2cace-1b82-4e58-bde0-f557de9a7714",
   "metadata": {},
   "source": [
    " - WYNIK"
   ]
  },
  {
   "cell_type": "markdown",
   "id": "6620b055-a2c0-48d3-aae5-71e708d9d525",
   "metadata": {},
   "source": [
    "![Wynik](my-gradients.png) "
   ]
  },
  {
   "cell_type": "markdown",
   "id": "69898f24-2aee-4358-8992-59124ee16c16",
   "metadata": {},
   "source": [
    " 2. 100%\n",
    "    - KOD"
   ]
  },
  {
   "cell_type": "code",
   "execution_count": null,
   "id": "f934a116-5e56-475c-a510-0dede0bbf67b",
   "metadata": {},
   "outputs": [],
   "source": []
  }
 ],
 "metadata": {
  "kernelspec": {
   "display_name": "Python 3 (ipykernel)",
   "language": "python",
   "name": "python3"
  },
  "language_info": {
   "codemirror_mode": {
    "name": "ipython",
    "version": 3
   },
   "file_extension": ".py",
   "mimetype": "text/x-python",
   "name": "python",
   "nbconvert_exporter": "python",
   "pygments_lexer": "ipython3",
   "version": "3.10.11"
  }
 },
 "nbformat": 4,
 "nbformat_minor": 5
}
